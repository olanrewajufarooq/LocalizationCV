{
 "cells": [
  {
   "cell_type": "markdown",
   "metadata": {},
   "source": [
    "# Initialization"
   ]
  },
  {
   "cell_type": "code",
   "execution_count": null,
   "metadata": {},
   "outputs": [],
   "source": [
    "# Testing Code in Jupyter Notebook\n",
    "from src_file import ConfigParser, FeatureExtraction, FeatureMatching, Homography\n",
    "\n",
    "config_path=\"jupyter_config.cfg\"\n",
    "verbose=True\n",
    "\n",
    "parser = ConfigParser(config_path=config_path, verbose=verbose)"
   ]
  },
  {
   "cell_type": "code",
   "execution_count": null,
   "metadata": {},
   "outputs": [],
   "source": [
    "parser.config_dict[\"keypoints_out_ext\"] = \"h5\"\n",
    "parser.config_dict[\"keypoints_out_path\"] = \"../outputDataLocal/file_for_keypoints\"\n",
    "\n",
    "parser.config_dict[\"transforms_out_ext\"] = \"mat\"\n",
    "parser.config_dict[\"transforms_out_path\"] = \"../outputData/file_for_transforms\"\n"
   ]
  },
  {
   "cell_type": "markdown",
   "metadata": {},
   "source": [
    "# Features Extraction"
   ]
  },
  {
   "cell_type": "code",
   "execution_count": null,
   "metadata": {},
   "outputs": [],
   "source": [
    "# Code for testing the Feature Extraction Module\n",
    "feat_extract = FeatureExtraction(method=\"SIFT\", verbose=verbose)\n",
    "\n",
    "# Extracting Features from Image Map\n",
    "features = feat_extract.extract_features(parser.config_dict[\"image_map\"], type=\"image\")\n",
    "\n",
    "# Extracting Features from video files (Only One Video Accepted)\n",
    "features_video, frame_ids = feat_extract.extract_features(parser.config_dict[\"videos\"], type=\"video\")\n",
    "features.extend(features_video)\n",
    "\n",
    "frame_ids = frame_ids + 1"
   ]
  },
  {
   "cell_type": "code",
   "execution_count": null,
   "metadata": {},
   "outputs": [],
   "source": [
    "# parser.save_features(features)"
   ]
  },
  {
   "cell_type": "markdown",
   "metadata": {},
   "source": [
    "# Features Matching"
   ]
  },
  {
   "cell_type": "markdown",
   "metadata": {},
   "source": [
    "Loading Features from Saved File\n",
    "\n",
    "Use this if you already have extracted features and saved them in a file. Hence, you can skip the feature extraction step."
   ]
  },
  {
   "cell_type": "code",
   "execution_count": null,
   "metadata": {},
   "outputs": [],
   "source": [
    "# Loading extracted features\n",
    "# features = parser.load_features()"
   ]
  },
  {
   "cell_type": "markdown",
   "metadata": {},
   "source": [
    "Perform Features Matching"
   ]
  },
  {
   "cell_type": "code",
   "execution_count": null,
   "metadata": {},
   "outputs": [],
   "source": [
    "# Matching Features\n",
    "feat_match = FeatureMatching(lib=\"sklearn\", verbose=verbose)\n",
    "pts_in_map, pts_in_frame = feat_match.match_features(features)\n",
    "\n",
    "print(len(pts_in_map), len(pts_in_frame))"
   ]
  },
  {
   "cell_type": "markdown",
   "metadata": {},
   "source": [
    "# Homography"
   ]
  },
  {
   "cell_type": "markdown",
   "metadata": {},
   "source": [
    "#### Homography for Extracted Features."
   ]
  },
  {
   "cell_type": "code",
   "execution_count": null,
   "metadata": {},
   "outputs": [],
   "source": [
    "# Computing Homography\n",
    "homography = Homography(transforms=\"map\", use_ransac=True, use_opencv=False, verbose=verbose)\n",
    "homo_output_matrix = homography.compute_homography( pts_in_map, pts_in_frame, frame_ids )\n",
    "parser.save_homography_output(homo_output_matrix)"
   ]
  },
  {
   "cell_type": "markdown",
   "metadata": {},
   "source": [
    "#### Homography for Points Provided in Config File"
   ]
  },
  {
   "cell_type": "code",
   "execution_count": null,
   "metadata": {},
   "outputs": [],
   "source": [
    "# # Computing Homography\n",
    "# homography = Homography(transforms=\"map\", use_ransac=True, use_opencv=False, verbose=verbose)\n",
    "# homo_output = homography.compute_homography(parser.config_dict[\"map_points\"], parser.config_dict[\"frame_points\"], parser.config_dict[\"frame_ids\"])\n",
    "# parser.save_homography_output(homo_output_matrix)"
   ]
  }
 ],
 "metadata": {
  "kernelspec": {
   "display_name": "Python 3",
   "language": "python",
   "name": "python3"
  },
  "language_info": {
   "codemirror_mode": {
    "name": "ipython",
    "version": 3
   },
   "file_extension": ".py",
   "mimetype": "text/x-python",
   "name": "python",
   "nbconvert_exporter": "python",
   "pygments_lexer": "ipython3",
   "version": "3.11.0"
  }
 },
 "nbformat": 4,
 "nbformat_minor": 2
}
