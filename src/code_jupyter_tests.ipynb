{
 "cells": [
  {
   "cell_type": "markdown",
   "metadata": {},
   "source": [
    "# Initialization"
   ]
  },
  {
   "cell_type": "code",
   "execution_count": 5,
   "metadata": {},
   "outputs": [
    {
     "name": "stdout",
     "output_type": "stream",
     "text": [
      "Reading config file... Successful\n"
     ]
    }
   ],
   "source": [
    "# Testing Code in Jupyter Notebook\n",
    "from src_file import ConfigParser, FeatureExtraction, FeatureMatching, Homography\n",
    "\n",
    "config_path=\"jupyter_config.cfg\"\n",
    "verbose=True\n",
    "\n",
    "parser = ConfigParser(config_path=config_path, verbose=verbose)"
   ]
  },
  {
   "cell_type": "code",
   "execution_count": 6,
   "metadata": {},
   "outputs": [],
   "source": [
    "parser.config_dict[\"keypoints_out_ext\"] = \"h5\"\n",
    "parser.config_dict[\"keypoints_out_path\"] = \"../outputDataLocal/file_for_keypoints\"\n",
    "\n",
    "parser.config_dict[\"transforms_out_ext\"] = \"mat\"\n",
    "parser.config_dict[\"transforms_out_path\"] = \"../outputData/file_for_transforms\"\n"
   ]
  },
  {
   "cell_type": "markdown",
   "metadata": {},
   "source": [
    "# Features Extraction"
   ]
  },
  {
   "cell_type": "code",
   "execution_count": 7,
   "metadata": {},
   "outputs": [
    {
     "name": "stdout",
     "output_type": "stream",
     "text": [
      "Initializing SIFT Feature Detector...  Successful\n",
      "Loading image (../Downloads/trymefirst.png) to memory... Successful\n",
      "Extracting features from frames... Successful\n",
      "Loading video (../Downloads/trymefirst.mp4) to memory... Successful\n",
      "Number of Frames in Video: 1356. Frame Rate: 60.0\n",
      "Extracting features from frames... Successful\n"
     ]
    }
   ],
   "source": [
    "# Code for testing the Feature Extraction Module\n",
    "feat_extract = FeatureExtraction(method=\"SIFT\", verbose=verbose)\n",
    "\n",
    "# Extracting Features from Image Map\n",
    "features = feat_extract.extract_features(parser.config_dict[\"image_map\"], type=\"image\")\n",
    "\n",
    "# Extracting Features from video files (Only One Video Accepted)\n",
    "features_video, frame_ids = feat_extract.extract_features(parser.config_dict[\"videos\"], type=\"video\")\n",
    "features.extend(features_video)\n",
    "\n",
    "frame_ids = frame_ids + 1"
   ]
  },
  {
   "cell_type": "code",
   "execution_count": 8,
   "metadata": {},
   "outputs": [],
   "source": [
    "# parser.save_features(features)"
   ]
  },
  {
   "cell_type": "markdown",
   "metadata": {},
   "source": [
    "# Features Matching"
   ]
  },
  {
   "cell_type": "markdown",
   "metadata": {},
   "source": [
    "Loading Features from Saved File\n",
    "\n",
    "Use this if you already have extracted features and saved them in a file. Hence, you can skip the feature extraction step."
   ]
  },
  {
   "cell_type": "code",
   "execution_count": 9,
   "metadata": {},
   "outputs": [],
   "source": [
    "# Loading extracted features\n",
    "# features = parser.load_features()"
   ]
  },
  {
   "cell_type": "markdown",
   "metadata": {},
   "source": [
    "Perform Features Matching"
   ]
  },
  {
   "cell_type": "code",
   "execution_count": 10,
   "metadata": {},
   "outputs": [
    {
     "name": "stdout",
     "output_type": "stream",
     "text": [
      "Matching features... Successful\n",
      "20 20\n"
     ]
    }
   ],
   "source": [
    "# Matching Features\n",
    "feat_match = FeatureMatching(lib=\"sklearn\", verbose=verbose)\n",
    "pts_in_map, pts_in_frame = feat_match.match_features(features)\n",
    "\n",
    "print(len(pts_in_map), len(pts_in_frame))"
   ]
  },
  {
   "cell_type": "markdown",
   "metadata": {},
   "source": [
    "# Homography"
   ]
  },
  {
   "cell_type": "markdown",
   "metadata": {},
   "source": [
    "#### Homography for Extracted Features."
   ]
  },
  {
   "cell_type": "code",
   "execution_count": 11,
   "metadata": {},
   "outputs": [
    {
     "name": "stdout",
     "output_type": "stream",
     "text": [
      "Computing Homography. Use Ransac: True. Use OpenCV: False. Type: map... [272 249 254 289]\n"
     ]
    },
    {
     "ename": "TypeError",
     "evalue": "only integer scalar arrays can be converted to a scalar index",
     "output_type": "error",
     "traceback": [
      "\u001b[1;31m---------------------------------------------------------------------------\u001b[0m",
      "\u001b[1;31mTypeError\u001b[0m                                 Traceback (most recent call last)",
      "\u001b[1;32mc:\\Users\\olanr\\Downloads\\LocalizationCV\\src\\code_jupyter_tests.ipynb Cell 14\u001b[0m line \u001b[0;36m3\n\u001b[0;32m      <a href='vscode-notebook-cell:/c%3A/Users/olanr/Downloads/LocalizationCV/src/code_jupyter_tests.ipynb#X10sZmlsZQ%3D%3D?line=0'>1</a>\u001b[0m \u001b[39m# Computing Homography\u001b[39;00m\n\u001b[0;32m      <a href='vscode-notebook-cell:/c%3A/Users/olanr/Downloads/LocalizationCV/src/code_jupyter_tests.ipynb#X10sZmlsZQ%3D%3D?line=1'>2</a>\u001b[0m homography \u001b[39m=\u001b[39m Homography(transforms\u001b[39m=\u001b[39m\u001b[39m\"\u001b[39m\u001b[39mmap\u001b[39m\u001b[39m\"\u001b[39m, use_ransac\u001b[39m=\u001b[39m\u001b[39mTrue\u001b[39;00m, use_opencv\u001b[39m=\u001b[39m\u001b[39mFalse\u001b[39;00m, verbose\u001b[39m=\u001b[39mverbose)\n\u001b[1;32m----> <a href='vscode-notebook-cell:/c%3A/Users/olanr/Downloads/LocalizationCV/src/code_jupyter_tests.ipynb#X10sZmlsZQ%3D%3D?line=2'>3</a>\u001b[0m homo_output_matrix \u001b[39m=\u001b[39m homography\u001b[39m.\u001b[39;49mcompute_homography( pts_in_map, pts_in_frame, frame_ids )\n\u001b[0;32m      <a href='vscode-notebook-cell:/c%3A/Users/olanr/Downloads/LocalizationCV/src/code_jupyter_tests.ipynb#X10sZmlsZQ%3D%3D?line=3'>4</a>\u001b[0m parser\u001b[39m.\u001b[39msave_homography_output(homo_output_matrix)\n",
      "File \u001b[1;32mc:\\Users\\olanr\\Downloads\\LocalizationCV\\src\\src_file.py:128\u001b[0m, in \u001b[0;36mHomography.compute_homography\u001b[1;34m(self, pts_in_map, pts_in_frame, frame_ids)\u001b[0m\n\u001b[0;32m    125\u001b[0m     \u001b[39mprint\u001b[39m(\u001b[39mf\u001b[39m\u001b[39m\"\u001b[39m\u001b[39mComputing Homography. Use Ransac: \u001b[39m\u001b[39m{\u001b[39;00m\u001b[39mself\u001b[39m\u001b[39m.\u001b[39muse_ransac\u001b[39m}\u001b[39;00m\u001b[39m. Use OpenCV: \u001b[39m\u001b[39m{\u001b[39;00m\u001b[39mself\u001b[39m\u001b[39m.\u001b[39muse_opencv\u001b[39m}\u001b[39;00m\u001b[39m. Type: \u001b[39m\u001b[39m{\u001b[39;00m\u001b[39mself\u001b[39m\u001b[39m.\u001b[39mtransforms\u001b[39m}\u001b[39;00m\u001b[39m...\u001b[39m\u001b[39m\"\u001b[39m, end\u001b[39m=\u001b[39m\u001b[39m\"\u001b[39m\u001b[39m \u001b[39m\u001b[39m\"\u001b[39m)\n\u001b[0;32m    127\u001b[0m \u001b[39mif\u001b[39;00m \u001b[39mself\u001b[39m\u001b[39m.\u001b[39mtransforms \u001b[39m==\u001b[39m \u001b[39m\"\u001b[39m\u001b[39mmap\u001b[39m\u001b[39m\"\u001b[39m:\n\u001b[1;32m--> 128\u001b[0m     H_output \u001b[39m=\u001b[39m \u001b[39mself\u001b[39;49m\u001b[39m.\u001b[39;49m_compute_homography_map(pts_in_map, pts_in_frame, frame_ids)\n\u001b[0;32m    129\u001b[0m \u001b[39melif\u001b[39;00m \u001b[39mself\u001b[39m\u001b[39m.\u001b[39mtransforms \u001b[39m==\u001b[39m \u001b[39m\"\u001b[39m\u001b[39mall\u001b[39m\u001b[39m\"\u001b[39m:\n\u001b[0;32m    130\u001b[0m     \u001b[39m# TODO: Implement the code to compute homography for all frames.\u001b[39;00m\n\u001b[0;32m    131\u001b[0m     \u001b[39mpass\u001b[39;00m\n",
      "File \u001b[1;32mc:\\Users\\olanr\\Downloads\\LocalizationCV\\src\\src_file.py:107\u001b[0m, in \u001b[0;36mHomography._compute_homography_map\u001b[1;34m(self, pts_in_map, pts_in_frame, frame_ids)\u001b[0m\n\u001b[0;32m    104\u001b[0m \u001b[39melse\u001b[39;00m:\n\u001b[0;32m    105\u001b[0m     \u001b[39m# Computing the homography matrix without using OpenCV\u001b[39;00m\n\u001b[0;32m    106\u001b[0m     \u001b[39mif\u001b[39;00m \u001b[39mself\u001b[39m\u001b[39m.\u001b[39muse_ransac:\n\u001b[1;32m--> 107\u001b[0m         H_array \u001b[39m=\u001b[39m \u001b[39mself\u001b[39;49m\u001b[39m.\u001b[39;49m_run_ransac(input_points\u001b[39m=\u001b[39;49minput_points, output_points\u001b[39m=\u001b[39;49moutput_points)\n\u001b[0;32m    108\u001b[0m     \u001b[39melse\u001b[39;00m:\n\u001b[0;32m    109\u001b[0m         H_array \u001b[39m=\u001b[39m \u001b[39mself\u001b[39m\u001b[39m.\u001b[39m_compute_homography_without_cv(input_points\u001b[39m=\u001b[39minput_points, output_points\u001b[39m=\u001b[39moutput_points)\n",
      "File \u001b[1;32mc:\\Users\\olanr\\Downloads\\LocalizationCV\\src\\src_file.py:63\u001b[0m, in \u001b[0;36mHomography._run_ransac\u001b[1;34m(self, input_points, output_points)\u001b[0m\n\u001b[0;32m     61\u001b[0m random_indices \u001b[39m=\u001b[39m np\u001b[39m.\u001b[39mrandom\u001b[39m.\u001b[39mchoice(\u001b[39mlen\u001b[39m(input_points), \u001b[39m4\u001b[39m, replace\u001b[39m=\u001b[39m\u001b[39mFalse\u001b[39;00m)\n\u001b[0;32m     62\u001b[0m \u001b[39mprint\u001b[39m(random_indices)\n\u001b[1;32m---> 63\u001b[0m input_points_random \u001b[39m=\u001b[39m input_points[random_indices]\n\u001b[0;32m     64\u001b[0m output_points_random \u001b[39m=\u001b[39m output_points[random_indices]\n\u001b[0;32m     66\u001b[0m \u001b[39m# Compute the homography using the 4 points\u001b[39;00m\n",
      "\u001b[1;31mTypeError\u001b[0m: only integer scalar arrays can be converted to a scalar index"
     ]
    }
   ],
   "source": [
    "# Computing Homography\n",
    "homography = Homography(transforms=\"map\", use_ransac=True, use_opencv=False, verbose=verbose)\n",
    "homo_output_matrix = homography.compute_homography( pts_in_map, pts_in_frame, frame_ids )\n",
    "parser.save_homography_output(homo_output_matrix)"
   ]
  },
  {
   "cell_type": "markdown",
   "metadata": {},
   "source": [
    "#### Homography for Points Provided in Config File"
   ]
  },
  {
   "cell_type": "code",
   "execution_count": null,
   "metadata": {},
   "outputs": [],
   "source": [
    "# # Computing Homography\n",
    "# homography = Homography(transforms=\"map\", use_ransac=True, use_opencv=False, verbose=verbose)\n",
    "# homo_output = homography.compute_homography(parser.config_dict[\"map_points\"], parser.config_dict[\"frame_points\"], parser.config_dict[\"frame_ids\"])\n",
    "# parser.save_homography_output(homo_output_matrix)"
   ]
  }
 ],
 "metadata": {
  "kernelspec": {
   "display_name": "Python 3",
   "language": "python",
   "name": "python3"
  },
  "language_info": {
   "codemirror_mode": {
    "name": "ipython",
    "version": 3
   },
   "file_extension": ".py",
   "mimetype": "text/x-python",
   "name": "python",
   "nbconvert_exporter": "python",
   "pygments_lexer": "ipython3",
   "version": "3.11.0"
  }
 },
 "nbformat": 4,
 "nbformat_minor": 2
}
