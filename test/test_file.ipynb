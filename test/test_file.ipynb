{
 "cells": [
  {
   "cell_type": "code",
   "execution_count": null,
   "metadata": {},
   "outputs": [],
   "source": [
    "# Attempting to run code on a jupyter notebook (Failed)\n",
    "from src import src_file\n",
    "\n",
    "config_path=\"../src/myconfig.cfg\"\n",
    "verbose=True\n",
    "\n",
    "parser = src_file.ConfigParser(config_path=config_path, verbose=verbose)\n",
    "\n",
    "feat_extract = src_file.FeatureExtraction(method=\"SIFT\", verbose=verbose)\n",
    "\n",
    "# Extracting Features from Image Map\n",
    "features = feat_extract.extract_features(parser.config_dict[\"image_map\"], type=\"image\")\n",
    "\n",
    "# Extracting Features from video files (Only One Video Accepted)\n",
    "features_video = feat_extract.extract_features(parser.config_dict[\"videos\"], type=\"video\")\n",
    "features.extend(features_video)\n",
    "\n",
    "parser.save_features(features)"
   ]
  },
  {
   "cell_type": "code",
   "execution_count": null,
   "metadata": {},
   "outputs": [],
   "source": [
    "# Code for testing the Feature Extraction Module\n",
    "\n",
    "if __name__ == '__main__':\n",
    "    cmd_args = parse_args() #Read arguments passed on the command line\n",
    "    parser = ConfigParser(config_path = cmd_args.config_file_path, verbose=cmd_args.verbose)\n",
    "    \n",
    "    feat_extract = FeatureExtraction(method=\"SIFT\", verbose=cmd_args.verbose)\n",
    "    \n",
    "    # Extracting Features from Image Map\n",
    "    features = feat_extract.extract_features(parser.config_dict[\"image_map\"], type=\"image\")\n",
    "    \n",
    "    # Extracting Features from video files (Only One Video Accepted)\n",
    "    features_video = feat_extract.extract_features(parser.config_dict[\"videos\"], type=\"video\")\n",
    "    features.extend(features_video)\n",
    "    \n",
    "    parser.save_features(features)"
   ]
  },
  {
   "cell_type": "code",
   "execution_count": null,
   "metadata": {},
   "outputs": [],
   "source": [
    "# Code for testing the Feature Matching Module after Extracting Features\n",
    "\n",
    "if __name__ == '__main__':\n",
    "    cmd_args = parse_args() #Read arguments passed on the command line\n",
    "    parser = ConfigParser(config_path = cmd_args.config_file_path, verbose=cmd_args.verbose)\n",
    "    \n",
    "    # Loading extracted features\n",
    "    features = parser.load_features()\n",
    "    \n",
    "    # Matching Features\n",
    "    feat_match = FeatureMatching(lib=\"sklearn\", verbose=cmd_args.verbose)\n",
    "    pts_in_map, pts_in_frame = feat_match.match_features(features)\n",
    "    \n",
    "    print(len(pts_in_map), len(pts_in_frame))"
   ]
  }
 ],
 "metadata": {
  "kernelspec": {
   "display_name": "Python 3",
   "language": "python",
   "name": "python3"
  },
  "language_info": {
   "codemirror_mode": {
    "name": "ipython",
    "version": 3
   },
   "file_extension": ".py",
   "mimetype": "text/x-python",
   "name": "python",
   "nbconvert_exporter": "python",
   "pygments_lexer": "ipython3",
   "version": "3.11.0"
  }
 },
 "nbformat": 4,
 "nbformat_minor": 2
}
