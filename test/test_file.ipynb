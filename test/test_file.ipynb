{
 "cells": [
  {
   "cell_type": "markdown",
   "metadata": {},
   "source": [
    "# Running Codes"
   ]
  },
  {
   "cell_type": "markdown",
   "metadata": {},
   "source": [
    "Testing Features Extraction"
   ]
  },
  {
   "cell_type": "code",
   "execution_count": null,
   "metadata": {},
   "outputs": [],
   "source": [
    "# Code for testing the Feature Extraction Module\n",
    "\n",
    "if __name__ == '__main__':\n",
    "    cmd_args = parse_args() #Read arguments passed on the command line\n",
    "    parser = ConfigParser(config_path = cmd_args.config_file_path, verbose=cmd_args.verbose)\n",
    "    \n",
    "    feat_extract = FeatureExtraction(method=\"SIFT\", verbose=cmd_args.verbose)\n",
    "    \n",
    "    # Extracting Features from Image Map\n",
    "    features = feat_extract.extract_features(parser.config_dict[\"image_map\"], type=\"image\")\n",
    "    \n",
    "    # Extracting Features from video files (Only One Video Accepted)\n",
    "    features_video = feat_extract.extract_features(parser.config_dict[\"videos\"], type=\"video\")\n",
    "    features.extend(features_video)\n",
    "    \n",
    "    parser.save_features(features)"
   ]
  },
  {
   "cell_type": "markdown",
   "metadata": {},
   "source": [
    "Testing Features Matching"
   ]
  },
  {
   "cell_type": "code",
   "execution_count": null,
   "metadata": {},
   "outputs": [],
   "source": [
    "# Code for testing the Feature Matching (without initially saving the features)\n",
    "\n",
    "if __name__ == '__main__':\n",
    "    cmd_args = parse_args() #Read arguments passed on the command line\n",
    "    parser = ConfigParser(config_path = cmd_args.config_file_path, verbose=cmd_args.verbose)\n",
    "    \n",
    "    # Loading extracted features\n",
    "    feat_extract = FeatureExtraction(method=\"SIFT\", verbose=cmd_args.verbose)\n",
    "    \n",
    "    # Extracting Features from Image Map\n",
    "    features = feat_extract.extract_features(parser.config_dict[\"image_map\"], type=\"image\")\n",
    "    \n",
    "    # Extracting Features from video files (Only One Video Accepted)\n",
    "    features_video = feat_extract.extract_features(parser.config_dict[\"videos\"], type=\"video\")\n",
    "    features.extend(features_video)\n",
    "    \n",
    "    # Matching Features\n",
    "    feat_match = FeatureMatching(lib=\"sklearn\", verbose=cmd_args.verbose)\n",
    "    pts_in_map, pts_in_frame = feat_match.match_features(features)\n",
    "    \n",
    "    print(len(pts_in_map), len(pts_in_frame))\n"
   ]
  },
  {
   "cell_type": "code",
   "execution_count": null,
   "metadata": {},
   "outputs": [],
   "source": [
    "# Code for testing the Feature Matching Module after Extracting Features\n",
    "\n",
    "if __name__ == '__main__':\n",
    "    cmd_args = parse_args() #Read arguments passed on the command line\n",
    "    parser = ConfigParser(config_path = cmd_args.config_file_path, verbose=cmd_args.verbose)\n",
    "    \n",
    "    # Loading extracted features\n",
    "    features = parser.load_features()\n",
    "    \n",
    "    # Matching Features\n",
    "    feat_match = FeatureMatching(lib=\"sklearn\", verbose=cmd_args.verbose)\n",
    "    pts_in_map, pts_in_frame = feat_match.match_features(features)\n",
    "    \n",
    "    print(len(pts_in_map), len(pts_in_frame))"
   ]
  },
  {
   "cell_type": "markdown",
   "metadata": {},
   "source": [
    "Homography"
   ]
  },
  {
   "cell_type": "code",
   "execution_count": null,
   "metadata": {},
   "outputs": [],
   "source": [
    "# Code for calculating homography matrix from the scratch \n",
    "# (Loading video, obtaining features, matching features and calculating homographies).\n",
    "\n",
    "if __name__ == '__main__':\n",
    "    cmd_args = parse_args() #Read arguments passed on the command line\n",
    "    parser = ConfigParser(config_path = cmd_args.config_file_path, verbose=cmd_args.verbose)\n",
    "\n",
    "    # Initializing the Feature Extraction\n",
    "    feat_extract = FeatureExtraction(method=\"SIFT\", verbose=cmd_args.verbose)\n",
    "    \n",
    "    # Extracting Features from Image Map\n",
    "    features = feat_extract.extract_features(parser.config_dict[\"image_map\"], type=\"image\")\n",
    "    \n",
    "    # Extracting Features from video files (Only One Video Accepted)\n",
    "    features_video, frame_ids = feat_extract.extract_features(parser.config_dict[\"videos\"], type=\"video\")\n",
    "    features.extend(features_video)\n",
    "    frame_ids = frame_ids + 1 # Adding 1 to the frame ids to account for the map frame\n",
    "    \n",
    "    # parser.save_features(features)\n",
    "    # parser.load_features()\n",
    "\n",
    "    # Matching Features\n",
    "    feat_match = FeatureMatching(lib=\"sklearn\", verbose=cmd_args.verbose)\n",
    "    pts_in_map, pts_in_frame = feat_match.match_features(features)\n",
    "\n",
    "    # Computing Homography\n",
    "    homography = Homography(transforms=\"map\", use_ransac=True, verbose=cmd_args.verbose)\n",
    "    homo_output_matrix = homography.compute_homography( pts_in_map, pts_in_frame, frame_ids )\n",
    "    parser.save_homography_output(homo_output_matrix)"
   ]
  },
  {
   "cell_type": "code",
   "execution_count": null,
   "metadata": {},
   "outputs": [],
   "source": [
    "# Code for calculating homography matrix using the features saved in the keypoint_out path..\n",
    "\n",
    "if __name__ == '__main__':\n",
    "    cmd_args = parse_args() #Read arguments passed on the command line\n",
    "    parser = ConfigParser(config_path = cmd_args.config_file_path, verbose=cmd_args.verbose)\n",
    "\n",
    "    # Loading extracted features\n",
    "    features = parser.load_features()\n",
    "\n",
    "    # Matching Features\n",
    "    feat_match = FeatureMatching(lib=\"sklearn\", verbose=cmd_args.verbose)\n",
    "    pts_in_map, pts_in_frame = feat_match.match_features(features)\n",
    "    frame_ids = list( range(1, len(pts_in_frame)+1) )\n",
    "\n",
    "    # Computing Homography\n",
    "    homography = Homography(transforms=\"map\", use_ransac=True, verbose=cmd_args.verbose)\n",
    "    homo_output_matrix = homography.compute_homography( pts_in_map, pts_in_frame, frame_ids )\n",
    "    parser.save_homography_output(homo_output_matrix)"
   ]
  },
  {
   "cell_type": "code",
   "execution_count": null,
   "metadata": {},
   "outputs": [],
   "source": [
    "# Code for calculating homography matrix from the data in the config file.\n",
    "\n",
    "if __name__ == '__main__':\n",
    "    cmd_args = parse_args() #Read arguments passed on the command line\n",
    "    parser = ConfigParser(config_path = cmd_args.config_file_path, verbose=cmd_args.verbose)\n",
    "\n",
    "    # Computing Homography\n",
    "    homography = Homography(transforms=\"map\", use_ransac=True, verbose=cmd_args.verbose)\n",
    "    homo_output = homography.compute_homography(parser.config_dict[\"map_points\"], parser.config_dict[\"frame_points\"], parser.config_dict[\"frame_ids\"])\n",
    "    parser.save_homography_output(homo_output_matrix)"
   ]
  },
  {
   "cell_type": "markdown",
   "metadata": {},
   "source": [
    "# Debugging"
   ]
  },
  {
   "cell_type": "code",
   "execution_count": null,
   "metadata": {},
   "outputs": [],
   "source": [
    "if __name__ == '__main__':\n",
    "    verbose = True\n",
    "    config_path = \"src/myconfig.cfg\"\n",
    "    parser = ConfigParser(config_path = config_path, verbose=verbose)\n",
    "\n",
    "    # Initializing the Feature Extraction\n",
    "    feat_extract = FeatureExtraction(method=\"SIFT\", verbose=verbose)\n",
    "    \n",
    "    # Extracting Features from Image Map\n",
    "    features = feat_extract.extract_features(parser.config_dict[\"image_map\"], type=\"image\")\n",
    "    \n",
    "    # Extracting Features from video files (Only One Video Accepted)\n",
    "    features_video, frame_ids = feat_extract.extract_features(parser.config_dict[\"videos\"], type=\"video\")\n",
    "    features.extend(features_video)\n",
    "    \n",
    "    frame_ids = frame_ids + 1\n",
    "\n",
    "    # Matching Features\n",
    "    feat_match = FeatureMatching(lib=\"sklearn\", verbose=verbose)\n",
    "    pts_in_map, pts_in_frame = feat_match.match_features(features)\n",
    "\n",
    "    # Computing Homography\n",
    "    homography = Homography(transforms=\"map\", use_ransac=True, use_opencv=False, verbose=verbose)\n",
    "    homo_output_matrix = homography.compute_homography( pts_in_map, pts_in_frame, frame_ids )\n",
    "    parser.save_homography_output(homo_output_matrix)"
   ]
  }
 ],
 "metadata": {
  "kernelspec": {
   "display_name": "Python 3",
   "language": "python",
   "name": "python3"
  },
  "language_info": {
   "codemirror_mode": {
    "name": "ipython",
    "version": 3
   },
   "file_extension": ".py",
   "mimetype": "text/x-python",
   "name": "python",
   "nbconvert_exporter": "python",
   "pygments_lexer": "ipython3",
   "version": "3.11.0"
  }
 },
 "nbformat": 4,
 "nbformat_minor": 2
}
